{
 "cells": [
  {
   "cell_type": "code",
   "execution_count": 1,
   "id": "ded5eeca-20a1-4b1a-964b-8c33d8a0b302",
   "metadata": {},
   "outputs": [
    {
     "name": "stdout",
     "output_type": "stream",
     "text": [
      "Artificial Intelligence – Assignment 3\n",
      "Simple Chess AI\n",
      "You are playing as White (enter moves in UCI format, e.g., e2e4)\n"
     ]
    },
    {
     "name": "stdin",
     "output_type": "stream",
     "text": [
      "Enter your move (e.g., e2e4, g1f3, a7a8q) or 'quit':  e2e4\n"
     ]
    },
    {
     "name": "stdout",
     "output_type": "stream",
     "text": [
      "AI is thinking...\n",
      "AI thought for 1.39 seconds\n",
      "AI plays: e7e6\n"
     ]
    },
    {
     "name": "stdin",
     "output_type": "stream",
     "text": [
      "Enter your move (e.g., e2e4, g1f3, a7a8q) or 'quit':  d1g4\n"
     ]
    },
    {
     "name": "stdout",
     "output_type": "stream",
     "text": [
      "AI is thinking...\n",
      "AI thought for 3.71 seconds\n",
      "AI plays: d8f6\n"
     ]
    },
    {
     "name": "stdin",
     "output_type": "stream",
     "text": [
      "Enter your move (e.g., e2e4, g1f3, a7a8q) or 'quit':  f1e2\n"
     ]
    },
    {
     "name": "stdout",
     "output_type": "stream",
     "text": [
      "AI is thinking...\n",
      "AI thought for 7.66 seconds\n",
      "AI plays: h7h5\n"
     ]
    },
    {
     "name": "stdin",
     "output_type": "stream",
     "text": [
      "Enter your move (e.g., e2e4, g1f3, a7a8q) or 'quit':  g4h5\n"
     ]
    },
    {
     "name": "stdout",
     "output_type": "stream",
     "text": [
      "Captured piece: p at h5\n",
      "AI is thinking...\n",
      "AI thought for 1.88 seconds\n",
      "Captured piece: Q at h5\n",
      "AI plays: h8h5\n"
     ]
    },
    {
     "name": "stdin",
     "output_type": "stream",
     "text": [
      "Enter your move (e.g., e2e4, g1f3, a7a8q) or 'quit':  quit\n"
     ]
    },
    {
     "name": "stdout",
     "output_type": "stream",
     "text": [
      "\n",
      "Game over!\n"
     ]
    },
    {
     "ename": "SystemExit",
     "evalue": "",
     "output_type": "error",
     "traceback": [
      "An exception has occurred, use %tb to see the full traceback.\n",
      "\u001b[1;31mSystemExit\u001b[0m\n"
     ]
    },
    {
     "name": "stderr",
     "output_type": "stream",
     "text": [
      "C:\\ProgramData\\anaconda3\\Lib\\site-packages\\IPython\\core\\interactiveshell.py:3585: UserWarning: To exit: use 'exit', 'quit', or Ctrl-D.\n",
      "  warn(\"To exit: use 'exit', 'quit', or Ctrl-D.\", stacklevel=1)\n"
     ]
    }
   ],
   "source": [
    "import chess\n",
    "from chessboard import display\n",
    "import time\n",
    "\n",
    "class State:\n",
    "    def __init__(self, board=None, player=True):\n",
    "        if board is None:\n",
    "            self.board = chess.Board()\n",
    "        else:\n",
    "            self.board = board\n",
    "        self.player = player  # True = White's turn, False = Black's turn\n",
    "\n",
    "    def goalTest(self):\n",
    "        # Check if the game is over\n",
    "        if self.board.is_checkmate():\n",
    "            return not self.player  # The opponent just made a winning move\n",
    "        return None\n",
    "\n",
    "    def isTerminal(self):\n",
    "        return self.board.is_game_over()\n",
    "\n",
    "    def moveGen(self):\n",
    "        # Generate next states\n",
    "        children = []\n",
    "        for move in self.board.legal_moves:\n",
    "            new_board = self.board.copy()\n",
    "            new_board.push(move)\n",
    "            children.append(State(new_board, not self.player))\n",
    "        return children\n",
    "\n",
    "    def __str__(self):\n",
    "        return str(self.board)\n",
    "\n",
    "    def __eq__(self, other):\n",
    "        return self.board.fen() == other.board.fen() and self.player == other.player\n",
    "\n",
    "    def __hash__(self):\n",
    "        return hash((self.board.fen(), self.player))\n",
    "\n",
    "    def evaluate(self):\n",
    "        if self.board.is_checkmate():\n",
    "            return -1000 if self.player else 1000\n",
    "        if self.board.is_stalemate() or self.board.is_insufficient_material() or self.board.can_claim_draw():\n",
    "            return 0\n",
    "        piece_values = {chess.PAWN: 1, chess.KNIGHT: 3, chess.BISHOP: 3.1, chess.ROOK: 5, chess.QUEEN: 9}\n",
    "        score = 0\n",
    "        # Material\n",
    "        for sq, piece in self.board.piece_map().items():\n",
    "            value = piece_values.get(piece.piece_type, 0)\n",
    "            if piece.color == chess.WHITE:\n",
    "                score += value\n",
    "            else:\n",
    "                score -= value\n",
    "        # Center control\n",
    "        center_squares = [chess.D4, chess.E4, chess.D5, chess.E5]\n",
    "        for sq in center_squares:\n",
    "            piece = self.board.piece_at(sq)\n",
    "            if piece:\n",
    "                if piece.color == chess.WHITE:\n",
    "                    score += 0.2\n",
    "                else:\n",
    "                    score -= 0.2\n",
    "        # Mobility\n",
    "        b = self.board.copy()\n",
    "        b.turn = chess.WHITE\n",
    "        white_moves = len(list(b.legal_moves))\n",
    "        b.turn = chess.BLACK\n",
    "        black_moves = len(list(b.legal_moves))\n",
    "        score += 0.05 * (white_moves - black_moves)\n",
    "        # King Safety\n",
    "        white_king = self.board.king(chess.WHITE)\n",
    "        black_king = self.board.king(chess.BLACK)\n",
    "        if white_king:\n",
    "            score -= 0.5 * len(self.board.attackers(chess.BLACK, white_king))\n",
    "        if black_king:\n",
    "            score += 0.5 * len(self.board.attackers(chess.WHITE, black_king))\n",
    "        return score\n",
    "\n",
    "def minimax(state, depth, alpha, beta, maximizingPlayer, maxDepth):\n",
    "    if state.isTerminal() or depth == maxDepth:\n",
    "        return state.evaluate(), None\n",
    "    best_move = None\n",
    "    if maximizingPlayer:  # MAX node (White)\n",
    "        maxEval = float('-inf')\n",
    "        for child in state.moveGen():\n",
    "            eval_score, _ = minimax(child, depth + 1, alpha, beta, False, maxDepth)\n",
    "            if eval_score > maxEval:\n",
    "                maxEval = eval_score\n",
    "                best_move = child.board.peek()  # Last move made\n",
    "            alpha = max(alpha, eval_score)\n",
    "            if alpha >= beta:\n",
    "                break  # Alpha-beta pruning\n",
    "        return maxEval, best_move\n",
    "    else:  # MIN node (Black)\n",
    "        minEval = float('inf')\n",
    "        for child in state.moveGen():\n",
    "            eval_score, _ = minimax(child, depth + 1, alpha, beta, True, maxDepth)\n",
    "            if eval_score < minEval:\n",
    "                minEval = eval_score\n",
    "                best_move = child.board.peek()\n",
    "            beta = min(beta, eval_score)\n",
    "            if alpha >= beta:\n",
    "                break\n",
    "        return minEval, best_move\n",
    "\n",
    "def print_captured(board, move):\n",
    "    # Prints the captured piece if any (normal or en passant)\n",
    "    if board.is_capture(move):\n",
    "        if board.is_en_passant(move):\n",
    "            ep_square = chess.square(\n",
    "                chess.square_file(move.to_square),\n",
    "                chess.square_rank(move.from_square)\n",
    "            )\n",
    "            captured_piece = board.piece_at(ep_square)\n",
    "            if captured_piece:\n",
    "                print(f\"Captured piece: {captured_piece.symbol()} at {chess.square_name(ep_square)}\")\n",
    "        else:\n",
    "            captured_piece = board.piece_at(move.to_square)\n",
    "            if captured_piece:\n",
    "                print(f\"Captured piece: {captured_piece.symbol()} at {chess.square_name(move.to_square)}\")\n",
    "\n",
    "def play_game():\n",
    "    current_state = State(player=True)  # White starts\n",
    "    maxDepth = 3  # Try experimenting with the Search depth for more inteligent ai\n",
    "    game_board = display.start()  # Initialize the GUI\n",
    "    print(\"Artificial Intelligence – Assignment 3\")\n",
    "    print(\"Simple Chess AI\")\n",
    "    print(\"You are playing as White (enter moves in UCI format, e.g., e2e4)\")\n",
    "    while not current_state.isTerminal():\n",
    "        display.update(current_state.board.fen(), game_board)\n",
    "        if display.check_for_quit():\n",
    "            break\n",
    "        if current_state.player:  # Human move (White)\n",
    "            try:\n",
    "                move_uci = input(\"Enter your move (e.g., e2e4, g1f3, a7a8q) or 'quit': \")\n",
    "                if move_uci.lower() == 'quit':\n",
    "                    break\n",
    "                move = chess.Move.from_uci(move_uci)\n",
    "                if move in current_state.board.legal_moves:\n",
    "                    # Print captured piece before move\n",
    "                    print_captured(current_state.board, move)\n",
    "                    new_board = current_state.board.copy()\n",
    "                    new_board.push(move)\n",
    "                    current_state = State(new_board, False)\n",
    "                else:\n",
    "                    print(\"Invalid move! Try again.\")\n",
    "                    continue\n",
    "            except ValueError:\n",
    "                print(\"Invalid input format! Use UCI format like 'e2e4'.\")\n",
    "                continue\n",
    "        else:  # AI move (Black)\n",
    "            print(\"AI is thinking...\")\n",
    "            start_time = time.time()\n",
    "            eval_score, best_move = minimax(current_state, 0, float('-inf'), float('inf'), False, maxDepth)\n",
    "            end_time = time.time()\n",
    "            print(f\"AI thought for {end_time - start_time:.2f} seconds\")\n",
    "            if best_move:\n",
    "                # Print captured piece before move\n",
    "                print_captured(current_state.board, best_move)\n",
    "                new_board = current_state.board.copy()\n",
    "                new_board.push(best_move)\n",
    "                current_state = State(new_board, True)\n",
    "                print(f\"AI plays: {best_move.uci()}\")\n",
    "            else:\n",
    "                legal_moves = list(current_state.board.legal_moves)\n",
    "                if legal_moves:\n",
    "                    move = legal_moves\n",
    "                    print_captured(current_state.board, move)\n",
    "                    new_board = current_state.board.copy()\n",
    "                    new_board.push(move)\n",
    "                    current_state = State(new_board, True)\n",
    "                    print(f\"AI plays (fallback): {move.uci()}\")\n",
    "                else:\n",
    "                    break\n",
    "    print(\"\\nGame over!\")\n",
    "    display.update(current_state.board.fen(), game_board)\n",
    "    if current_state.board.is_checkmate():\n",
    "        print(\"Checkmate! \" + (\"White\" if not current_state.player else \"Black\") + \" wins!\")\n",
    "    elif current_state.board.is_stalemate():\n",
    "        print(\"Stalemate! It's a draw.\")\n",
    "    elif current_state.board.is_insufficient_material():\n",
    "        print(\"Insufficient material! It's a draw.\")\n",
    "    elif current_state.board.can_claim_draw():\n",
    "        print(\"Draw by repetition or 50-move rule!\")\n",
    "    time.sleep(3)\n",
    "    display.terminate()\n",
    "\n",
    "if __name__ == \"__main__\":\n",
    "    play_game()\n"
   ]
  },
  {
   "cell_type": "code",
   "execution_count": null,
   "id": "c2ff9274-9528-4ae8-a893-960b062418c8",
   "metadata": {},
   "outputs": [],
   "source": []
  }
 ],
 "metadata": {
  "kernelspec": {
   "display_name": "Python 3 (ipykernel)",
   "language": "python",
   "name": "python3"
  },
  "language_info": {
   "codemirror_mode": {
    "name": "ipython",
    "version": 3
   },
   "file_extension": ".py",
   "mimetype": "text/x-python",
   "name": "python",
   "nbconvert_exporter": "python",
   "pygments_lexer": "ipython3",
   "version": "3.13.5"
  }
 },
 "nbformat": 4,
 "nbformat_minor": 5
}
