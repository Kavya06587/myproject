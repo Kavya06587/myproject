{
 "cells": [
  {
   "cell_type": "code",
   "execution_count": 1,
   "id": "ded5eeca-20a1-4b1a-964b-8c33d8a0b302",
   "metadata": {},
   "outputs": [
    {
     "name": "stdout",
     "output_type": "stream",
     "text": [
      "Artificial Intelligence – Assignment 3\n",
      "Simple Chess AI\n",
      "You are playing as White (enter moves in UCI format, e.g., e2e4)\n"
     ]
    },
    {
     "name": "stdin",
     "output_type": "stream",
     "text": [
      "Enter your move (e.g., e2e4, g1f3, a7a8q) or 'quit':  e2e4\n"
     ]
    },
    {
     "name": "stdout",
     "output_type": "stream",
     "text": [
      "AI is thinking...\n",
      "AI thought for 1.36 seconds\n",
      "AI plays: e7e6\n"
     ]
    },
    {
     "name": "stdin",
     "output_type": "stream",
     "text": [
      "Enter your move (e.g., e2e4, g1f3, a7a8q) or 'quit':  f1e2\n"
     ]
    },
    {
     "name": "stdout",
     "output_type": "stream",
     "text": [
      "AI is thinking...\n",
      "AI thought for 3.61 seconds\n",
      "AI plays: d8h4\n"
     ]
    },
    {
     "name": "stdin",
     "output_type": "stream",
     "text": [
      "Enter your move (e.g., e2e4, g1f3, a7a8q) or 'quit':  g1f3\n"
     ]
    },
    {
     "name": "stdout",
     "output_type": "stream",
     "text": [
      "AI is thinking...\n",
      "AI thought for 4.79 seconds\n",
      "AI plays: h4e4\n"
     ]
    },
    {
     "name": "stdin",
     "output_type": "stream",
     "text": [
      "Enter your move (e.g., e2e4, g1f3, a7a8q) or 'quit':  f3g5\n"
     ]
    },
    {
     "name": "stdout",
     "output_type": "stream",
     "text": [
      "AI is thinking...\n",
      "AI thought for 5.58 seconds\n",
      "AI plays: e4g2\n"
     ]
    },
    {
     "name": "stdin",
     "output_type": "stream",
     "text": [
      "Enter your move (e.g., e2e4, g1f3, a7a8q) or 'quit':  e1g1\n"
     ]
    },
    {
     "name": "stdout",
     "output_type": "stream",
     "text": [
      "Invalid move! Try again.\n"
     ]
    },
    {
     "name": "stdin",
     "output_type": "stream",
     "text": [
      "Enter your move (e.g., e2e4, g1f3, a7a8q) or 'quit':  e2f1\n"
     ]
    },
    {
     "name": "stdout",
     "output_type": "stream",
     "text": [
      "AI is thinking...\n",
      "AI thought for 4.90 seconds\n",
      "AI plays: g2h1\n"
     ]
    },
    {
     "name": "stdin",
     "output_type": "stream",
     "text": [
      "Enter your move (e.g., e2e4, g1f3, a7a8q) or 'quit':  d1e2\n"
     ]
    },
    {
     "name": "stdout",
     "output_type": "stream",
     "text": [
      "AI is thinking...\n",
      "AI thought for 3.68 seconds\n",
      "AI plays: f8c5\n"
     ]
    },
    {
     "name": "stdin",
     "output_type": "stream",
     "text": [
      "Enter your move (e.g., e2e4, g1f3, a7a8q) or 'quit':  g5e4\n"
     ]
    },
    {
     "name": "stdout",
     "output_type": "stream",
     "text": [
      "AI is thinking...\n",
      "AI thought for 3.04 seconds\n",
      "AI plays: c5d4\n"
     ]
    },
    {
     "name": "stdin",
     "output_type": "stream",
     "text": [
      "Enter your move (e.g., e2e4, g1f3, a7a8q) or 'quit':  c2c3\n"
     ]
    },
    {
     "name": "stdout",
     "output_type": "stream",
     "text": [
      "AI is thinking...\n",
      "AI thought for 4.80 seconds\n",
      "AI plays: d4e5\n"
     ]
    },
    {
     "name": "stdin",
     "output_type": "stream",
     "text": [
      "Enter your move (e.g., e2e4, g1f3, a7a8q) or 'quit':  f1g2\n"
     ]
    },
    {
     "name": "stdout",
     "output_type": "stream",
     "text": [
      "Invalid move! Try again.\n"
     ]
    },
    {
     "name": "stdin",
     "output_type": "stream",
     "text": [
      "Enter your move (e.g., e2e4, g1f3, a7a8q) or 'quit':  e2f3\n"
     ]
    },
    {
     "name": "stdout",
     "output_type": "stream",
     "text": [
      "AI is thinking...\n",
      "AI thought for 3.18 seconds\n",
      "AI plays: h1f3\n"
     ]
    },
    {
     "name": "stdin",
     "output_type": "stream",
     "text": [
      "Enter your move (e.g., e2e4, g1f3, a7a8q) or 'quit':  quit\n"
     ]
    },
    {
     "name": "stdout",
     "output_type": "stream",
     "text": [
      "\n",
      "Game over!\n"
     ]
    },
    {
     "ename": "SystemExit",
     "evalue": "",
     "output_type": "error",
     "traceback": [
      "An exception has occurred, use %tb to see the full traceback.\n",
      "\u001b[1;31mSystemExit\u001b[0m\n"
     ]
    },
    {
     "name": "stderr",
     "output_type": "stream",
     "text": [
      "C:\\ProgramData\\anaconda3\\Lib\\site-packages\\IPython\\core\\interactiveshell.py:3585: UserWarning: To exit: use 'exit', 'quit', or Ctrl-D.\n",
      "  warn(\"To exit: use 'exit', 'quit', or Ctrl-D.\", stacklevel=1)\n"
     ]
    }
   ],
   "source": [
    "\"\"\"\n",
    "Artificial Intelligence – Assignment 3\n",
    "Submission Deadline - 05/09/2025\n",
    "--------------------------------------\n",
    "\n",
    "Topic: Chess AI with Minimax (Alpha-Beta) and Evaluation Function\n",
    "\n",
    "INSTRUCTIONS TO STUDENTS\n",
    "------------------------\n",
    "1. Install the required libraries:\n",
    "   In your terminal/command prompt, type:\n",
    "       pip install python-chess chess-board pygame\n",
    "\n",
    "   (Mac/Linux users may need: python3 -m pip install python-chess chess-board pygame)\n",
    "\n",
    "   NOTE: \"python-chess\" is for chess rules,\n",
    "         \"chess-board\" is for showing the GUI board,\n",
    "         \"pygame\" is needed by the chess-board library to open the display window.\n",
    "\n",
    "2. Run the program:\n",
    "       python chess_ai.py\n",
    "   (or python3 chess_ai.py on Mac/Linux)\n",
    "\n",
    "3. How the chessboard works:\n",
    "   - The chessboard is 8x8 squares.\n",
    "   - Columns are called FILES and are labeled with letters: a, b, c, d, e, f, g, h\n",
    "        (a = leftmost, h = rightmost from White’s view)\n",
    "   - Rows are called RANKS and are numbered 1 to 8\n",
    "        (1 = White’s back row, 8 = Black’s back row)\n",
    "\n",
    "   Example of square names:\n",
    "       a1 = bottom-left corner (White’s rook starts here)\n",
    "       h1 = bottom-right corner (White’s rook)\n",
    "       e2 = White’s king’s pawn start\n",
    "       e4 = two squares forward from there\n",
    "\n",
    "   So the board squares look like this from White’s view:\n",
    "\n",
    "        8 | a8 b8 c8 d8 e8 f8 g8 h8\n",
    "        7 | a7 b7 c7 d7 e7 f7 g7 h7\n",
    "        6 | a6 b6 c6 d6 e6 f6 g6 h6\n",
    "        5 | a5 b5 c5 d5 e5 f5 g5 h5\n",
    "        4 | a4 b4 c4 d4 e4 f4 g4 h4\n",
    "        3 | a3 b3 c3 d3 e3 f3 g3 h3\n",
    "        2 | a2 b2 c2 d2 e2 f2 g2 h2\n",
    "        1 | a1 b1 c1 d1 e1 f1 g1 h1\n",
    "           -------------------------\n",
    "             a  b  c  d  e  f  g  h\n",
    "    See more at: https://www.chess.com/learn-how-to-play-chess\n",
    "\n",
    "4. How to give moves:\n",
    "   - Use **UCI format** (Universal Chess Interface).\n",
    "   - A move is written as: <from-square><to-square>\n",
    "   - Examples:\n",
    "       \"e2e4\" → move the piece from e2 to e4 (common pawn opening)\n",
    "       \"g1f3\" → move the knight from g1 to f3\n",
    "       \"a7a8q\" → pawn moves from a7 to a8 and becomes a Queen (promotion)\n",
    "   - Type 'quit' to stop the game.\n",
    "\n",
    "5. Your Task:\n",
    "   Complete the `evaluate` function in the `State` class.\n",
    "   This is the \"brain\" of the AI which scores how good or bad a board position is.\n",
    "\n",
    "   - If you do nothing, the program still works (it just plays very badly).\n",
    "   - Improve the function by counting material (pieces), center control, mobility, etc.\n",
    "   - Read the comments inside `evaluate` carefully.\n",
    "\n",
    "6. Useful documentation:\n",
    "   - python-chess (PyPI page): https://pypi.org/project/python-chess/\n",
    "   - python-chess (full API reference): https://python-chess.readthedocs.io/en/latest/core.html\n",
    "\n",
    "   You may also use ChatGPT to clarify how a function from python-chess works,\n",
    "   BUT you should NOT ask it to complete the evaluation code for you.\n",
    "   The design of the evaluation function is YOUR task.\n",
    "   You can read the paper on Deepblue: https://www.mimuw.edu.pl/~ewama/zsi/deepBlue.pdf\n",
    "   Other resouces on Deepblue: https://stanford.edu/~cpiech/cs221/apps/deepBlue.html\n",
    "                               https://www.chess.com/blog/Rinckens/how-does-the-deep-blue-algorithm-work\n",
    "\n",
    "\"\"\"\n",
    "\n",
    "import chess\n",
    "from chessboard import display\n",
    "import time\n",
    "\n",
    "class State:\n",
    "    def __init__(self, board=None, player=True):\n",
    "        if board is None:\n",
    "            self.board = chess.Board()\n",
    "        else:\n",
    "            self.board = board\n",
    "        self.player = player  # True = White's turn, False = Black's turn\n",
    "\n",
    "    def goalTest(self):\n",
    "        # Check if the game is over\n",
    "        if self.board.is_checkmate():\n",
    "            return not self.player  # The opponent just made a winning move\n",
    "        return None\n",
    "\n",
    "    def isTerminal(self):\n",
    "        return self.board.is_game_over()\n",
    "\n",
    "    def moveGen(self):\n",
    "        # Generate next states\n",
    "        children = []\n",
    "        for move in self.board.legal_moves:\n",
    "            new_board = self.board.copy()\n",
    "            new_board.push(move)\n",
    "            children.append(State(new_board, not self.player))\n",
    "        return children\n",
    "\n",
    "    def __str__(self):\n",
    "        return str(self.board)\n",
    "\n",
    "    def __eq__(self, other):\n",
    "        return self.board.fen() == other.board.fen() and self.player == other.player\n",
    "\n",
    "    def __hash__(self):\n",
    "        return hash((self.board.fen(), self.player))\n",
    "\n",
    "    def evaluate(self):\n",
    "        if self.board.is_checkmate():\n",
    "            return -1000 if self.player else 1000\n",
    "        if self.board.is_stalemate() or self.board.is_insufficient_material() or self.board.can_claim_draw():\n",
    "            return 0\n",
    "\n",
    "        piece_values = {chess.PAWN: 1, chess.KNIGHT: 3, chess.BISHOP: 3.1, chess.ROOK: 5, chess.QUEEN: 9}\n",
    "        score = 0\n",
    "\n",
    "    # Material\n",
    "        for sq, piece in self.board.piece_map().items():\n",
    "            value = piece_values.get(piece.piece_type, 0)\n",
    "            if piece.color == chess.WHITE:\n",
    "                score += value\n",
    "            else:\n",
    "                score -= value\n",
    "\n",
    "    # Center control\n",
    "        center_squares = [chess.D4, chess.E4, chess.D5, chess.E5]\n",
    "        for sq in center_squares:\n",
    "            piece = self.board.piece_at(sq)\n",
    "            if piece:\n",
    "                if piece.color == chess.WHITE:\n",
    "                    score += 0.2\n",
    "                else:\n",
    "                    score -= 0.2\n",
    "\n",
    "    # Mobility\n",
    "        b = self.board.copy()\n",
    "        b.turn = chess.WHITE\n",
    "        white_moves = len(list(b.legal_moves))\n",
    "        b.turn = chess.BLACK\n",
    "        black_moves = len(list(b.legal_moves))\n",
    "        score += 0.05 * (white_moves - black_moves)\n",
    "\n",
    "    # King Safety\n",
    "        white_king = self.board.king(chess.WHITE)\n",
    "        black_king = self.board.king(chess.BLACK)\n",
    "        if white_king:\n",
    "            score -= 0.5 * len(self.board.attackers(chess.BLACK, white_king))\n",
    "        if black_king:\n",
    "            score += 0.5 * len(self.board.attackers(chess.WHITE, black_king))\n",
    "\n",
    "        return score\n",
    "\n",
    "\n",
    "\n",
    "def minimax(state, depth, alpha, beta, maximizingPlayer, maxDepth):\n",
    "    if state.isTerminal() or depth == maxDepth:\n",
    "        return state.evaluate(), None\n",
    "\n",
    "    best_move = None\n",
    "\n",
    "    if maximizingPlayer:  # MAX node (White)\n",
    "        maxEval = float('-inf')\n",
    "        for child in state.moveGen():\n",
    "            eval_score, _ = minimax(child, depth + 1, alpha, beta, False, maxDepth)\n",
    "\n",
    "            if eval_score > maxEval:\n",
    "                maxEval = eval_score\n",
    "                best_move = child.board.peek()  # Last move made\n",
    "\n",
    "            alpha = max(alpha, eval_score)\n",
    "            if alpha >= beta:\n",
    "                break  # Alpha-beta pruning\n",
    "\n",
    "        return maxEval, best_move\n",
    "\n",
    "    else:  # MIN node (Black)\n",
    "        minEval = float('inf')\n",
    "        for child in state.moveGen():\n",
    "            eval_score, _ = minimax(child, depth + 1, alpha, beta, True, maxDepth)\n",
    "\n",
    "            if eval_score < minEval:\n",
    "                minEval = eval_score\n",
    "                best_move = child.board.peek()\n",
    "\n",
    "            beta = min(beta, eval_score)\n",
    "            if alpha >= beta:\n",
    "                break\n",
    "\n",
    "        return minEval, best_move\n",
    "\n",
    "\n",
    "def play_game():\n",
    "    current_state = State(player=True)  # White starts\n",
    "    maxDepth = 3  # Try experimenting with the Search depth for more inteligent ai\n",
    "    game_board = display.start()  # Initialize the GUI\n",
    "\n",
    "    print(\"Artificial Intelligence – Assignment 3\")\n",
    "    print(\"Simple Chess AI\")\n",
    "    print(\"You are playing as White (enter moves in UCI format, e.g., e2e4)\")\n",
    "\n",
    "    while not current_state.isTerminal():\n",
    "        # Update the display\n",
    "        display.update(current_state.board.fen(), game_board)\n",
    "\n",
    "        # Check for quit event\n",
    "        if display.check_for_quit():\n",
    "            break\n",
    "\n",
    "        if current_state.player:  # Human move (White)\n",
    "            try:\n",
    "                move_uci = input(\"Enter your move (e.g., e2e4, g1f3, a7a8q) or 'quit': \")\n",
    "\n",
    "                if move_uci.lower() == 'quit':\n",
    "                    break\n",
    "\n",
    "                move = chess.Move.from_uci(move_uci)\n",
    "\n",
    "                if move in current_state.board.legal_moves:\n",
    "                    new_board = current_state.board.copy()\n",
    "                    new_board.push(move)\n",
    "                    current_state = State(new_board, False)\n",
    "                else:\n",
    "                    print(\"Invalid move! Try again.\")\n",
    "                    continue\n",
    "            except ValueError:\n",
    "                print(\"Invalid input format! Use UCI format like 'e2e4'.\")\n",
    "                continue\n",
    "        else:  # AI move (Black)\n",
    "            print(\"AI is thinking...\")\n",
    "            start_time = time.time()\n",
    "            eval_score, best_move = minimax(current_state, 0, float('-inf'), float('inf'), False, maxDepth)\n",
    "            end_time = time.time()\n",
    "\n",
    "            print(f\"AI thought for {end_time - start_time:.2f} seconds\")\n",
    "\n",
    "            if best_move:\n",
    "                new_board = current_state.board.copy()\n",
    "                new_board.push(best_move)\n",
    "                current_state = State(new_board, True)\n",
    "                print(f\"AI plays: {best_move.uci()}\")\n",
    "            else:\n",
    "                # Fallback\n",
    "                legal_moves = list(current_state.board.legal_moves)\n",
    "                if legal_moves:\n",
    "                    move = legal_moves[0]\n",
    "                    new_board = current_state.board.copy()\n",
    "                    new_board.push(move)\n",
    "                    current_state = State(new_board, True)\n",
    "                    print(f\"AI plays (fallback): {move.uci()}\")\n",
    "                else:\n",
    "                    break\n",
    "\n",
    "    # Game over\n",
    "    print(\"\\nGame over!\")\n",
    "    display.update(current_state.board.fen(), game_board)\n",
    "\n",
    "    if current_state.board.is_checkmate():\n",
    "        print(\"Checkmate! \" + (\"White\" if not current_state.player else \"Black\") + \" wins!\")\n",
    "    elif current_state.board.is_stalemate():\n",
    "        print(\"Stalemate! It's a draw.\")\n",
    "    elif current_state.board.is_insufficient_material():\n",
    "        print(\"Insufficient material! It's a draw.\")\n",
    "    elif current_state.board.can_claim_draw():\n",
    "        print(\"Draw by repetition or 50-move rule!\")\n",
    "\n",
    "    # Keep the window open for a moment\n",
    "    time.sleep(3)\n",
    "    display.terminate()\n",
    "\n",
    "\n",
    "if __name__ == \"__main__\":\n",
    "    play_game()\n"
   ]
  },
  {
   "cell_type": "code",
   "execution_count": null,
   "id": "ebbfd039-587d-427a-a060-211e366c3911",
   "metadata": {},
   "outputs": [],
   "source": []
  }
 ],
 "metadata": {
  "kernelspec": {
   "display_name": "Python 3 (ipykernel)",
   "language": "python",
   "name": "python3"
  },
  "language_info": {
   "codemirror_mode": {
    "name": "ipython",
    "version": 3
   },
   "file_extension": ".py",
   "mimetype": "text/x-python",
   "name": "python",
   "nbconvert_exporter": "python",
   "pygments_lexer": "ipython3",
   "version": "3.13.5"
  }
 },
 "nbformat": 4,
 "nbformat_minor": 5
}
